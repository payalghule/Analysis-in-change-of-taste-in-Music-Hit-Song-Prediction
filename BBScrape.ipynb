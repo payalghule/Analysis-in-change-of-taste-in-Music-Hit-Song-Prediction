{
 "cells": [
  {
   "cell_type": "code",
   "execution_count": 1,
   "metadata": {},
   "outputs": [],
   "source": [
    "import requests \n",
    "from bs4 import BeautifulSoup\n",
    "import re\n",
    "import pandas as pd \n",
    "import pickle \n",
    "import string \n",
    "from dateutil import parser"
   ]
  },
  {
   "cell_type": "code",
   "execution_count": 2,
   "metadata": {},
   "outputs": [],
   "source": [
    "def get_soup(start_url):\n",
    "    response = requests.get(start_url)\n",
    "    page = response.text\n",
    "    return BeautifulSoup(page, \"lxml\")"
   ]
  },
  {
   "cell_type": "code",
   "execution_count": 13,
   "metadata": {},
   "outputs": [],
   "source": [
    "from datetime import date, datetime, timedelta\n",
    "\n",
    "def perdelta(start, end, delta):\n",
    "    curr = start\n",
    "    while curr < end:\n",
    "        yield curr\n",
    "        curr += delta\n",
    "\n",
    "urls = []\n",
    "for suffix in perdelta(date(2010, 1, 1), date(2021, 1, 1), timedelta(days=30)):\n",
    "    prefix = 'http://www.billboard.com/charts/hot-100/'\n",
    "    link = prefix + str(suffix)\n",
    "    urls.append(link)"
   ]
  },
  {
   "cell_type": "code",
   "execution_count": 14,
   "metadata": {},
   "outputs": [
    {
     "data": {
      "text/plain": [
       "['http://www.billboard.com/charts/hot-100/2010-01-01',\n",
       " 'http://www.billboard.com/charts/hot-100/2010-01-31',\n",
       " 'http://www.billboard.com/charts/hot-100/2010-03-02',\n",
       " 'http://www.billboard.com/charts/hot-100/2010-04-01',\n",
       " 'http://www.billboard.com/charts/hot-100/2010-05-01',\n",
       " 'http://www.billboard.com/charts/hot-100/2010-05-31',\n",
       " 'http://www.billboard.com/charts/hot-100/2010-06-30',\n",
       " 'http://www.billboard.com/charts/hot-100/2010-07-30',\n",
       " 'http://www.billboard.com/charts/hot-100/2010-08-29',\n",
       " 'http://www.billboard.com/charts/hot-100/2010-09-28',\n",
       " 'http://www.billboard.com/charts/hot-100/2010-10-28',\n",
       " 'http://www.billboard.com/charts/hot-100/2010-11-27',\n",
       " 'http://www.billboard.com/charts/hot-100/2010-12-27',\n",
       " 'http://www.billboard.com/charts/hot-100/2011-01-26',\n",
       " 'http://www.billboard.com/charts/hot-100/2011-02-25',\n",
       " 'http://www.billboard.com/charts/hot-100/2011-03-27',\n",
       " 'http://www.billboard.com/charts/hot-100/2011-04-26',\n",
       " 'http://www.billboard.com/charts/hot-100/2011-05-26',\n",
       " 'http://www.billboard.com/charts/hot-100/2011-06-25',\n",
       " 'http://www.billboard.com/charts/hot-100/2011-07-25',\n",
       " 'http://www.billboard.com/charts/hot-100/2011-08-24',\n",
       " 'http://www.billboard.com/charts/hot-100/2011-09-23',\n",
       " 'http://www.billboard.com/charts/hot-100/2011-10-23',\n",
       " 'http://www.billboard.com/charts/hot-100/2011-11-22',\n",
       " 'http://www.billboard.com/charts/hot-100/2011-12-22',\n",
       " 'http://www.billboard.com/charts/hot-100/2012-01-21',\n",
       " 'http://www.billboard.com/charts/hot-100/2012-02-20',\n",
       " 'http://www.billboard.com/charts/hot-100/2012-03-21',\n",
       " 'http://www.billboard.com/charts/hot-100/2012-04-20',\n",
       " 'http://www.billboard.com/charts/hot-100/2012-05-20',\n",
       " 'http://www.billboard.com/charts/hot-100/2012-06-19',\n",
       " 'http://www.billboard.com/charts/hot-100/2012-07-19',\n",
       " 'http://www.billboard.com/charts/hot-100/2012-08-18',\n",
       " 'http://www.billboard.com/charts/hot-100/2012-09-17',\n",
       " 'http://www.billboard.com/charts/hot-100/2012-10-17',\n",
       " 'http://www.billboard.com/charts/hot-100/2012-11-16',\n",
       " 'http://www.billboard.com/charts/hot-100/2012-12-16',\n",
       " 'http://www.billboard.com/charts/hot-100/2013-01-15',\n",
       " 'http://www.billboard.com/charts/hot-100/2013-02-14',\n",
       " 'http://www.billboard.com/charts/hot-100/2013-03-16',\n",
       " 'http://www.billboard.com/charts/hot-100/2013-04-15',\n",
       " 'http://www.billboard.com/charts/hot-100/2013-05-15',\n",
       " 'http://www.billboard.com/charts/hot-100/2013-06-14',\n",
       " 'http://www.billboard.com/charts/hot-100/2013-07-14',\n",
       " 'http://www.billboard.com/charts/hot-100/2013-08-13',\n",
       " 'http://www.billboard.com/charts/hot-100/2013-09-12',\n",
       " 'http://www.billboard.com/charts/hot-100/2013-10-12',\n",
       " 'http://www.billboard.com/charts/hot-100/2013-11-11',\n",
       " 'http://www.billboard.com/charts/hot-100/2013-12-11',\n",
       " 'http://www.billboard.com/charts/hot-100/2014-01-10',\n",
       " 'http://www.billboard.com/charts/hot-100/2014-02-09',\n",
       " 'http://www.billboard.com/charts/hot-100/2014-03-11',\n",
       " 'http://www.billboard.com/charts/hot-100/2014-04-10',\n",
       " 'http://www.billboard.com/charts/hot-100/2014-05-10',\n",
       " 'http://www.billboard.com/charts/hot-100/2014-06-09',\n",
       " 'http://www.billboard.com/charts/hot-100/2014-07-09',\n",
       " 'http://www.billboard.com/charts/hot-100/2014-08-08',\n",
       " 'http://www.billboard.com/charts/hot-100/2014-09-07',\n",
       " 'http://www.billboard.com/charts/hot-100/2014-10-07',\n",
       " 'http://www.billboard.com/charts/hot-100/2014-11-06',\n",
       " 'http://www.billboard.com/charts/hot-100/2014-12-06',\n",
       " 'http://www.billboard.com/charts/hot-100/2015-01-05',\n",
       " 'http://www.billboard.com/charts/hot-100/2015-02-04',\n",
       " 'http://www.billboard.com/charts/hot-100/2015-03-06',\n",
       " 'http://www.billboard.com/charts/hot-100/2015-04-05',\n",
       " 'http://www.billboard.com/charts/hot-100/2015-05-05',\n",
       " 'http://www.billboard.com/charts/hot-100/2015-06-04',\n",
       " 'http://www.billboard.com/charts/hot-100/2015-07-04',\n",
       " 'http://www.billboard.com/charts/hot-100/2015-08-03',\n",
       " 'http://www.billboard.com/charts/hot-100/2015-09-02',\n",
       " 'http://www.billboard.com/charts/hot-100/2015-10-02',\n",
       " 'http://www.billboard.com/charts/hot-100/2015-11-01',\n",
       " 'http://www.billboard.com/charts/hot-100/2015-12-01',\n",
       " 'http://www.billboard.com/charts/hot-100/2015-12-31',\n",
       " 'http://www.billboard.com/charts/hot-100/2016-01-30',\n",
       " 'http://www.billboard.com/charts/hot-100/2016-02-29',\n",
       " 'http://www.billboard.com/charts/hot-100/2016-03-30',\n",
       " 'http://www.billboard.com/charts/hot-100/2016-04-29',\n",
       " 'http://www.billboard.com/charts/hot-100/2016-05-29',\n",
       " 'http://www.billboard.com/charts/hot-100/2016-06-28',\n",
       " 'http://www.billboard.com/charts/hot-100/2016-07-28',\n",
       " 'http://www.billboard.com/charts/hot-100/2016-08-27',\n",
       " 'http://www.billboard.com/charts/hot-100/2016-09-26',\n",
       " 'http://www.billboard.com/charts/hot-100/2016-10-26',\n",
       " 'http://www.billboard.com/charts/hot-100/2016-11-25',\n",
       " 'http://www.billboard.com/charts/hot-100/2016-12-25',\n",
       " 'http://www.billboard.com/charts/hot-100/2017-01-24',\n",
       " 'http://www.billboard.com/charts/hot-100/2017-02-23',\n",
       " 'http://www.billboard.com/charts/hot-100/2017-03-25',\n",
       " 'http://www.billboard.com/charts/hot-100/2017-04-24',\n",
       " 'http://www.billboard.com/charts/hot-100/2017-05-24',\n",
       " 'http://www.billboard.com/charts/hot-100/2017-06-23',\n",
       " 'http://www.billboard.com/charts/hot-100/2017-07-23',\n",
       " 'http://www.billboard.com/charts/hot-100/2017-08-22',\n",
       " 'http://www.billboard.com/charts/hot-100/2017-09-21',\n",
       " 'http://www.billboard.com/charts/hot-100/2017-10-21',\n",
       " 'http://www.billboard.com/charts/hot-100/2017-11-20',\n",
       " 'http://www.billboard.com/charts/hot-100/2017-12-20',\n",
       " 'http://www.billboard.com/charts/hot-100/2018-01-19',\n",
       " 'http://www.billboard.com/charts/hot-100/2018-02-18',\n",
       " 'http://www.billboard.com/charts/hot-100/2018-03-20',\n",
       " 'http://www.billboard.com/charts/hot-100/2018-04-19',\n",
       " 'http://www.billboard.com/charts/hot-100/2018-05-19',\n",
       " 'http://www.billboard.com/charts/hot-100/2018-06-18',\n",
       " 'http://www.billboard.com/charts/hot-100/2018-07-18',\n",
       " 'http://www.billboard.com/charts/hot-100/2018-08-17',\n",
       " 'http://www.billboard.com/charts/hot-100/2018-09-16',\n",
       " 'http://www.billboard.com/charts/hot-100/2018-10-16',\n",
       " 'http://www.billboard.com/charts/hot-100/2018-11-15',\n",
       " 'http://www.billboard.com/charts/hot-100/2018-12-15',\n",
       " 'http://www.billboard.com/charts/hot-100/2019-01-14',\n",
       " 'http://www.billboard.com/charts/hot-100/2019-02-13',\n",
       " 'http://www.billboard.com/charts/hot-100/2019-03-15',\n",
       " 'http://www.billboard.com/charts/hot-100/2019-04-14',\n",
       " 'http://www.billboard.com/charts/hot-100/2019-05-14',\n",
       " 'http://www.billboard.com/charts/hot-100/2019-06-13',\n",
       " 'http://www.billboard.com/charts/hot-100/2019-07-13',\n",
       " 'http://www.billboard.com/charts/hot-100/2019-08-12',\n",
       " 'http://www.billboard.com/charts/hot-100/2019-09-11',\n",
       " 'http://www.billboard.com/charts/hot-100/2019-10-11',\n",
       " 'http://www.billboard.com/charts/hot-100/2019-11-10',\n",
       " 'http://www.billboard.com/charts/hot-100/2019-12-10',\n",
       " 'http://www.billboard.com/charts/hot-100/2020-01-09',\n",
       " 'http://www.billboard.com/charts/hot-100/2020-02-08',\n",
       " 'http://www.billboard.com/charts/hot-100/2020-03-09',\n",
       " 'http://www.billboard.com/charts/hot-100/2020-04-08',\n",
       " 'http://www.billboard.com/charts/hot-100/2020-05-08',\n",
       " 'http://www.billboard.com/charts/hot-100/2020-06-07',\n",
       " 'http://www.billboard.com/charts/hot-100/2020-07-07',\n",
       " 'http://www.billboard.com/charts/hot-100/2020-08-06',\n",
       " 'http://www.billboard.com/charts/hot-100/2020-09-05',\n",
       " 'http://www.billboard.com/charts/hot-100/2020-10-05',\n",
       " 'http://www.billboard.com/charts/hot-100/2020-11-04',\n",
       " 'http://www.billboard.com/charts/hot-100/2020-12-04']"
      ]
     },
     "execution_count": 14,
     "metadata": {},
     "output_type": "execute_result"
    }
   ],
   "source": [
    "urls"
   ]
  },
  {
   "cell_type": "code",
   "execution_count": 15,
   "metadata": {},
   "outputs": [
    {
     "data": {
      "text/plain": [
       "134"
      ]
     },
     "execution_count": 15,
     "metadata": {},
     "output_type": "execute_result"
    }
   ],
   "source": [
    "len(urls)"
   ]
  },
  {
   "cell_type": "code",
   "execution_count": 6,
   "metadata": {},
   "outputs": [],
   "source": [
    "def get_artist(soup):\n",
    "    artist = soup.find_all(class_=\"chart-element__information__song text--truncate color--primary\")\n",
    "    artists = []\n",
    "    for item in artist:\n",
    "        item = item.text.strip()\n",
    "        artists.append(item)\n",
    "    return artists"
   ]
  },
  {
   "cell_type": "code",
   "execution_count": 7,
   "metadata": {},
   "outputs": [],
   "source": [
    "def get_track(soup):\n",
    "    track = soup.find_all(class_=\"chart-element__information__artist text--truncate color--secondary\")\n",
    "    tracks = []\n",
    "    for item in track:\n",
    "        item = item.text.strip()\n",
    "        tracks.append(item)\n",
    "    return tracks\n",
    "\n"
   ]
  },
  {
   "cell_type": "code",
   "execution_count": 8,
   "metadata": {},
   "outputs": [],
   "source": [
    "frames = []\n",
    "billboard_dict = {}\n",
    "for url in urls:\n",
    "    soup = get_soup(url)\n",
    "    artist = get_artist(soup)\n",
    "    track = get_track(soup)\n",
    "    dates = [parser.parse(url.split('/')[5])]*len(artist)\n",
    "    df = pd.DataFrame({'artist': artist, 'track': track, 'publish_date': dates})\n",
    "    frames.append(df)"
   ]
  },
  {
   "cell_type": "code",
   "execution_count": 9,
   "metadata": {},
   "outputs": [],
   "source": [
    "df_merge = pd.concat(frames).reset_index(drop=True)"
   ]
  },
  {
   "cell_type": "code",
   "execution_count": 10,
   "metadata": {},
   "outputs": [],
   "source": [
    "df_merge.to_csv('File1.csv')"
   ]
  },
  {
   "cell_type": "code",
   "execution_count": 11,
   "metadata": {},
   "outputs": [
    {
     "name": "stdout",
     "output_type": "stream",
     "text": [
      "(1000, 4)\n"
     ]
    }
   ],
   "source": [
    "df2 = pd.read_csv('File1.csv')\n",
    "print(df2.shape)\n",
    "df3 = df2.drop_duplicates(['track'], keep='first').reset_index(drop=True)"
   ]
  },
  {
   "cell_type": "code",
   "execution_count": 12,
   "metadata": {},
   "outputs": [
    {
     "name": "stdout",
     "output_type": "stream",
     "text": [
      "(288, 4)\n"
     ]
    }
   ],
   "source": [
    "print(df3.shape)\n",
    "df3.to_csv('File3.csv')"
   ]
  },
  {
   "cell_type": "code",
   "execution_count": null,
   "metadata": {},
   "outputs": [],
   "source": []
  }
 ],
 "metadata": {
  "kernelspec": {
   "display_name": "Python 3",
   "language": "python",
   "name": "python3"
  },
  "language_info": {
   "codemirror_mode": {
    "name": "ipython",
    "version": 3
   },
   "file_extension": ".py",
   "mimetype": "text/x-python",
   "name": "python",
   "nbconvert_exporter": "python",
   "pygments_lexer": "ipython3",
   "version": "3.9.1"
  }
 },
 "nbformat": 4,
 "nbformat_minor": 2
}
