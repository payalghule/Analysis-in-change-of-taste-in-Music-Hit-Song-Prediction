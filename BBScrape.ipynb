{
 "cells": [
  {
   "cell_type": "markdown",
   "metadata": {},
   "source": [
    "import requests\n",
    "from bs4 import BeautifulSoup\n",
    "import re\n",
    "import pandas as pd\n",
    "import pickle\n",
    "import string\n",
    "from dateutil import parser"
   ]
  },
  {
   "cell_type": "code",
   "execution_count": 279,
   "metadata": {},
   "outputs": [],
   "source": [
    "def get_soup(start_url):\n",
    "    response = requests.get(start_url)\n",
    "    page = response.text\n",
    "    return BeautifulSoup(page, \"lxml\")"
   ]
  },
  {
   "cell_type": "code",
   "execution_count": 280,
   "metadata": {},
   "outputs": [],
   "source": [
    "from datetime import date, datetime, timedelta\n",
    "\n",
    "def perdelta(start, end, delta):\n",
    "    curr = start\n",
    "    while curr < end:\n",
    "        yield curr\n",
    "        curr += delta\n",
    "\n",
    "urls = []\n",
    "for suffix in perdelta(date(2019, 8, 7), date(2019, 11, 30), timedelta(days=30)):\n",
    "    prefix = 'http://www.billboard.com/charts/hot-100/'\n",
    "    link = prefix + str(suffix)\n",
    "    urls.append(link)"
   ]
  },
  {
   "cell_type": "code",
   "execution_count": 281,
   "metadata": {},
   "outputs": [],
   "source": [
    "def get_artist(soup):\n",
    "    artist = soup.find_all(class_=\"chart-element__information__song text--truncate color--primary\")\n",
    "    artists = []\n",
    "    for item in artist:\n",
    "        item = item.text.strip()\n",
    "        artists.append(item)\n",
    "    return artists"
   ]
  },
  {
   "cell_type": "code",
   "execution_count": 282,
   "metadata": {},
   "outputs": [],
   "source": [
    "def get_track(soup):\n",
    "    track = soup.find_all(class_=\"chart-element__information__artist text--truncate color--secondary\")\n",
    "    tracks = []\n",
    "    for item in track:\n",
    "        item = item.text.strip()\n",
    "        tracks.append(item)\n",
    "    return tracks\n",
    "\n"
   ]
  },
  {
   "cell_type": "code",
   "execution_count": 272,
   "metadata": {},
   "outputs": [],
   "source": [
    "frames = []\n",
    "billboard_dict = {}\n",
    "for url in urls:\n",
    "    soup = get_soup(url)\n",
    "    artist = get_artist(soup)\n",
    "    track = get_track(soup)\n",
    "    dates = [parser.parse(url.split('/')[5])]*len(artist)\n",
    "    df = pd.DataFrame({'artist': artist, 'track': track, 'publish_date': dates})\n",
    "    frames.append(df)"
   ]
  },
  {
   "cell_type": "code",
   "execution_count": 283,
   "metadata": {},
   "outputs": [],
   "source": [
    "df_merge = pd.concat(frames).reset_index(drop=True)"
   ]
  },
  {
   "cell_type": "code",
   "execution_count": 274,
   "metadata": {},
   "outputs": [],
   "source": [
    "df_merge.to_csv('File1.csv')"
   ]
  },
  {
   "cell_type": "code",
   "execution_count": 2,
   "metadata": {},
   "outputs": [
    {
     "name": "stdout",
     "output_type": "stream",
     "text": [
      "(36500, 4)\n"
     ]
    }
   ],
   "source": [
    "df2 = pd.read_csv('File2.csv')\n",
    "print(df2.shape)\n",
    "df3 = df2.drop_duplicates(['track'], keep='first').reset_index(drop=True)"
   ]
  },
  {
   "cell_type": "code",
   "execution_count": 3,
   "metadata": {},
   "outputs": [
    {
     "name": "stdout",
     "output_type": "stream",
     "text": [
      "(8755, 4)\n"
     ]
    }
   ],
   "source": [
    "print(df3.shape)\n",
    "df3.to_csv('File3.csv')"
   ]
  },
  {
   "cell_type": "code",
   "execution_count": null,
   "metadata": {},
   "outputs": [],
   "source": []
  }
 ],
 "metadata": {
  "kernelspec": {
   "display_name": "Python 3",
   "language": "python",
   "name": "python3"
  },
  "language_info": {
   "codemirror_mode": {
    "name": "ipython",
    "version": 3
   },
   "file_extension": ".py",
   "mimetype": "text/x-python",
   "name": "python",
   "nbconvert_exporter": "python",
   "pygments_lexer": "ipython3",
   "version": "3.9.1"
  }
 },
 "nbformat": 4,
 "nbformat_minor": 2
}
